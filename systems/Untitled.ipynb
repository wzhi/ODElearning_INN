{
 "cells": [
  {
   "cell_type": "code",
   "execution_count": 1,
   "metadata": {},
   "outputs": [],
   "source": [
    "import time\n",
    "import torch\n",
    "import numpy as np\n",
    "import matplotlib.pyplot as pl\n",
    "import torchdiffeq\n",
    "import torch.nn as n\n",
    "import FrEIA.framework as Ff\n",
    "import FrEIA.modules as Fm\n",
    "from mpl_toolkits import mplot3d\n",
    "\n",
    "\n",
    "##########################################################3\n",
    "# system dynamics\n",
    "\n",
    "xx=torch.tensor([0.,0.,0.])\n",
    "tt=torch.tensor([0.,5.])\n",
    "t_d=torch.linspace(0,2,800)\n",
    "devicestr=\"cpu\"\n",
    "device_str=\"cuda\""
   ]
  },
  {
   "cell_type": "code",
   "execution_count": 2,
   "metadata": {},
   "outputs": [
    {
     "data": {
      "text/plain": [
       "tensor([0., 0., 0.], device='cuda:0')"
      ]
     },
     "execution_count": 2,
     "metadata": {},
     "output_type": "execute_result"
    }
   ],
   "source": [
    "xx.to(device_str)"
   ]
  },
  {
   "cell_type": "code",
   "execution_count": 3,
   "metadata": {},
   "outputs": [
    {
     "data": {
      "image/png": "[encoded data removed]",
      "text/plain": [
       "<Figure size 864x720 with 1 Axes>"
      ]
     },
     "metadata": {
      "needs_background": "light"
     },
     "output_type": "display_data"
    }
   ],
   "source": [
    "def test_fun(t,x):\n",
    "    sig=10.\n",
    "    rho=28.\n",
    "    beta=8/3\n",
    "    vel=torch.zeros((3,1))\n",
    "    vel[0]=sig*(x[1]-x[0])\n",
    "    vel[1]=x[0]*(rho-x[2])-x[1]\n",
    "    vel[2]=x[0]*x[1]-beta*x[2]\n",
    "    return(vel)\n",
    "\n",
    "tt_tors=torch.tensor([[.15,.15,.15,0.,0.,0.]])\n",
    "xy_d_list=[]\n",
    "for i in range(len(tt_tors)):\n",
    "    noise_c=torch.normal(torch.zeros((len(t_d),3)),0.01*torch.ones((len(t_d),3)))\n",
    "    xy_d=torchdiffeq.odeint(test_fun,tt_tors[i,:3][None].T,t_d).reshape((-1,3))#+noise_c #no noise for test\n",
    "    xy_d_list.append(xy_d.clone().detach())\n",
    "\n",
    "pl.figure(figsize=(12,10))\n",
    "for i in range(len(xy_d_list)):\n",
    "    xy_d=xy_d_list[i]\n",
    "    pl.plot(xy_d[:,0],xy_d[:,1],marker='o')\n",
    "\n",
    "xx=xy_d_list[0] "
   ]
  },
  {
   "cell_type": "code",
   "execution_count": 14,
   "metadata": {},
   "outputs": [
    {
     "name": "stdout",
     "output_type": "stream",
     "text": [
      "ours time mean:\n",
      "0.22950457169972652\n",
      "ours time std:\n",
      "0.009007374154333092\n",
      "torch.Size([800, 3])\n",
      "Ours Interpolation MAE: 0.2012\n"
     ]
    }
   ],
   "source": [
    "N_DIM = 6\n",
    "def subnet_fc(dims_in, dims_out):\n",
    "    return n.Sequential(n.Linear(dims_in, 1500), n.ReLU(),\n",
    "                         n.Linear(1500, dims_out))\n",
    "inn2 = Ff.SequenceINN(N_DIM)\n",
    "for k in range(5):\n",
    "    inn2.append(Fm.AllInOneBlock, subnet_constructor=subnet_fc)\n",
    "    \n",
    "f_x_base=n.Sequential(\n",
    "n.Linear(6, 30),\n",
    "n.Tanh(),\n",
    "n.Linear(30, 30),\n",
    "n.Tanh(),\n",
    "n.Linear(30, 30),\n",
    "n.Tanh(),\n",
    "n.Linear(30, 6)\n",
    ")\n",
    "def fx_base(t,x):\n",
    "    return(f_x_base(x))\n",
    "    \n",
    "def for_inn2(x):\n",
    "    return(inn2(x)[0])\n",
    "def rev_inn2(x):\n",
    "    return(inn2(x,rev=True)[0])\n",
    "def linear_val_ode2(init_v,t_d):\n",
    "    init_v_in=rev_inn2(init_v)\n",
    "    eval_lin=torchdiffeq.odeint(fx_base,init_v_in,t_d,\n",
    "                                method='dopri5')[:,0,:]#options={'step_size':0.01}\n",
    "    eval_out=for_inn2(eval_lin)\n",
    "    return(eval_out)\n",
    "    \n",
    "f_x_base.load_state_dict(torch.load('f_x_base_save_good_eod2.tar'))\n",
    "inn2.load_state_dict(torch.load('inn2_save_good_eod2.tar'))   \n",
    "f_x_base = f_x_base.to(device_str)\n",
    "inn2 = inn2.to(device_str)\n",
    "\n",
    "f_x_base = f_x_base.to(device_str)\n",
    "tt_tors = tt_tors.to(device_str)\n",
    "t_d = t_d.to(device_str)\n",
    "    \n",
    "time_list=[]\n",
    "for i in range(10):\n",
    "        tic = time.perf_counter()\n",
    "        tx=linear_val_ode2(tt_tors,t_d)\n",
    "        toc = time.perf_counter()\n",
    "        time_list.append(toc-tic)\n",
    "\n",
    "\n",
    "ours=np.array(time_list)\n",
    "print('ours time mean:')\n",
    "print(ours.mean())\n",
    "print('ours time std:')\n",
    "print(ours.std())\n",
    "\n",
    "\n",
    "sum_num=0\n",
    "    \n",
    "for i in range(0,len(tt_tors)):\n",
    "    xy_d=xy_d_list[i]\n",
    "    print(xy_d.shape)\n",
    "    error=torch.mean(torch.norm(tx[:,:3].to('cpu')-xy_d,dim=1))\n",
    "    sum_num+=error\n",
    "    \n",
    "print(f'Ours Interpolation MAE: {sum_num:.4f}')\n"
   ]
  },
  {
   "cell_type": "code",
   "execution_count": null,
   "metadata": {},
   "outputs": [],
   "source": []
  },
  {
   "cell_type": "code",
   "execution_count": null,
   "metadata": {},
   "outputs": [],
   "source": []
  }
 ],
 "metadata": {
  "kernelspec": {
   "display_name": "Python 3",
   "language": "python",
   "name": "python3"
  },
  "language_info": {
   "codemirror_mode": {
    "name": "ipython",
    "version": 3
   },
   "file_extension": ".py",
   "mimetype": "text/x-python",
   "name": "python",
   "nbconvert_exporter": "python",
   "pygments_lexer": "ipython3",
   "version": "3.8.10"
  }
 },
 "nbformat": 4,
 "nbformat_minor": 4
}
